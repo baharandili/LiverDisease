{
 "cells": [
  {
   "cell_type": "code",
   "execution_count": 160,
   "id": "1562a5f4",
   "metadata": {},
   "outputs": [],
   "source": [
    "import numpy as np\n",
    "import pandas as pd\n",
    "from matplotlib import pyplot as plt\n",
    "%matplotlib inline\n",
    "import seaborn as sns\n",
    "from sklearn.preprocessing import LabelEncoder\n",
    "from sklearn.model_selection import train_test_split\n",
    "from sklearn.model_selection import cross_val_score\n",
    "from sklearn.preprocessing import StandardScaler\n",
    "from sklearn.neighbors import KNeighborsClassifier\n",
    "from sklearn.metrics import confusion_matrix\n",
    "from sklearn.metrics import classification_report\n",
    "from sklearn.metrics import accuracy_score\n",
    "from sklearn.naive_bayes import GaussianNB\n",
    "from sklearn.metrics import accuracy_score\n",
    "from sklearn.svm import SVC\n",
    "from sklearn.ensemble import RandomForestClassifier\n",
    "from sklearn.preprocessing import MinMaxScaler\n",
    "from sklearn.linear_model import LinearRegression\n",
    "from sklearn.decomposition import PCA\n",
    "from sklearn.model_selection import GridSearchCV\n",
    "from sklearn.model_selection import KFold\n",
    "from sklearn.model_selection import cross_val_predict\n",
    "from sklearn.metrics import confusion_matrix"
   ]
  },
  {
   "cell_type": "markdown",
   "id": "6c98ffc8",
   "metadata": {},
   "source": [
    "# Load Data liver"
   ]
  },
  {
   "cell_type": "code",
   "execution_count": 161,
   "id": "4f1f1472",
   "metadata": {},
   "outputs": [
    {
     "data": {
      "text/html": [
       "<div>\n",
       "<style scoped>\n",
       "    .dataframe tbody tr th:only-of-type {\n",
       "        vertical-align: middle;\n",
       "    }\n",
       "\n",
       "    .dataframe tbody tr th {\n",
       "        vertical-align: top;\n",
       "    }\n",
       "\n",
       "    .dataframe thead th {\n",
       "        text-align: right;\n",
       "    }\n",
       "</style>\n",
       "<table border=\"1\" class=\"dataframe\">\n",
       "  <thead>\n",
       "    <tr style=\"text-align: right;\">\n",
       "      <th></th>\n",
       "      <th>age</th>\n",
       "      <th>gender</th>\n",
       "      <th>total bilirubin</th>\n",
       "      <th>direct bilirubin</th>\n",
       "      <th>alkaline phosphotase</th>\n",
       "      <th>alamine aminotransferase</th>\n",
       "      <th>aspartate aminotransferase</th>\n",
       "      <th>total protiens</th>\n",
       "      <th>albumin</th>\n",
       "      <th>albumin and globulin ratio</th>\n",
       "      <th>result</th>\n",
       "    </tr>\n",
       "  </thead>\n",
       "  <tbody>\n",
       "    <tr>\n",
       "      <th>0</th>\n",
       "      <td>65</td>\n",
       "      <td>Female</td>\n",
       "      <td>2.7</td>\n",
       "      <td>2.1</td>\n",
       "      <td>187</td>\n",
       "      <td>16</td>\n",
       "      <td>18</td>\n",
       "      <td>6.8</td>\n",
       "      <td>3.3</td>\n",
       "      <td>2.90</td>\n",
       "      <td>1</td>\n",
       "    </tr>\n",
       "    <tr>\n",
       "      <th>1</th>\n",
       "      <td>62</td>\n",
       "      <td>Male</td>\n",
       "      <td>12.9</td>\n",
       "      <td>5.5</td>\n",
       "      <td>699</td>\n",
       "      <td>64</td>\n",
       "      <td>122</td>\n",
       "      <td>7.5</td>\n",
       "      <td>3.2</td>\n",
       "      <td>2.74</td>\n",
       "      <td>1</td>\n",
       "    </tr>\n",
       "    <tr>\n",
       "      <th>2</th>\n",
       "      <td>62</td>\n",
       "      <td>Male</td>\n",
       "      <td>7.3</td>\n",
       "      <td>4.1</td>\n",
       "      <td>492</td>\n",
       "      <td>62</td>\n",
       "      <td>68</td>\n",
       "      <td>7.0</td>\n",
       "      <td>3.3</td>\n",
       "      <td>2.89</td>\n",
       "      <td>1</td>\n",
       "    </tr>\n",
       "    <tr>\n",
       "      <th>3</th>\n",
       "      <td>58</td>\n",
       "      <td>Male</td>\n",
       "      <td>1.0</td>\n",
       "      <td>0.4</td>\n",
       "      <td>182</td>\n",
       "      <td>14</td>\n",
       "      <td>20</td>\n",
       "      <td>6.8</td>\n",
       "      <td>3.4</td>\n",
       "      <td>1.00</td>\n",
       "      <td>1</td>\n",
       "    </tr>\n",
       "    <tr>\n",
       "      <th>4</th>\n",
       "      <td>72</td>\n",
       "      <td>Male</td>\n",
       "      <td>3.9</td>\n",
       "      <td>2.0</td>\n",
       "      <td>195</td>\n",
       "      <td>27</td>\n",
       "      <td>59</td>\n",
       "      <td>7.3</td>\n",
       "      <td>2.4</td>\n",
       "      <td>0.40</td>\n",
       "      <td>1</td>\n",
       "    </tr>\n",
       "  </tbody>\n",
       "</table>\n",
       "</div>"
      ],
      "text/plain": [
       "   age  gender  total bilirubin  direct bilirubin  alkaline phosphotase  \\\n",
       "0   65  Female              2.7               2.1                   187   \n",
       "1   62    Male             12.9               5.5                   699   \n",
       "2   62    Male              7.3               4.1                   492   \n",
       "3   58    Male              1.0               0.4                   182   \n",
       "4   72    Male              3.9               2.0                   195   \n",
       "\n",
       "   alamine aminotransferase  aspartate aminotransferase  total protiens  \\\n",
       "0                        16                          18             6.8   \n",
       "1                        64                         122             7.5   \n",
       "2                        62                          68             7.0   \n",
       "3                        14                          20             6.8   \n",
       "4                        27                          59             7.3   \n",
       "\n",
       "   albumin  albumin and globulin ratio  result  \n",
       "0      3.3                        2.90       1  \n",
       "1      3.2                        2.74       1  \n",
       "2      3.3                        2.89       1  \n",
       "3      3.4                        1.00       1  \n",
       "4      2.4                        0.40       1  "
      ]
     },
     "execution_count": 161,
     "metadata": {},
     "output_type": "execute_result"
    }
   ],
   "source": [
    "data = pd.read_csv('liverV1.csv', header= 0, encoding= 'unicode_escape')\n",
    "data.head()"
   ]
  },
  {
   "cell_type": "code",
   "execution_count": 162,
   "id": "e7d7cfa0",
   "metadata": {},
   "outputs": [
    {
     "data": {
      "text/plain": [
       "(2898, 11)"
      ]
     },
     "execution_count": 162,
     "metadata": {},
     "output_type": "execute_result"
    }
   ],
   "source": [
    "data.to_csv(\"liverV1.csv\")\n",
    "data.shape"
   ]
  },
  {
   "cell_type": "markdown",
   "id": "9fa78139",
   "metadata": {},
   "source": [
    "# Data Pre-Processing\n",
    "## Fill Missing Value"
   ]
  },
  {
   "cell_type": "code",
   "execution_count": 163,
   "id": "92396ad6",
   "metadata": {},
   "outputs": [
    {
     "data": {
      "text/plain": [
       "age                           False\n",
       "gender                        False\n",
       "total bilirubin               False\n",
       "direct bilirubin              False\n",
       "alkaline phosphotase          False\n",
       "alamine aminotransferase      False\n",
       "aspartate aminotransferase    False\n",
       "total protiens                False\n",
       "albumin                       False\n",
       "albumin and globulin ratio    False\n",
       "result                        False\n",
       "dtype: bool"
      ]
     },
     "execution_count": 163,
     "metadata": {},
     "output_type": "execute_result"
    }
   ],
   "source": [
    "data.isnull().any()"
   ]
  },
  {
   "cell_type": "code",
   "execution_count": 164,
   "id": "53c66a99",
   "metadata": {},
   "outputs": [
    {
     "name": "stderr",
     "output_type": "stream",
     "text": [
      "C:\\Users\\Bahar Andili\\AppData\\Local\\Temp\\ipykernel_13780\\2513612827.py:1: FutureWarning: Dropping of nuisance columns in DataFrame reductions (with 'numeric_only=None') is deprecated; in a future version this will raise TypeError.  Select only valid columns before calling the reduction.\n",
      "  data.fillna(data.mean(), inplace = True)\n"
     ]
    }
   ],
   "source": [
    "data.fillna(data.mean(), inplace = True)"
   ]
  },
  {
   "cell_type": "code",
   "execution_count": 165,
   "id": "0c7bf368",
   "metadata": {},
   "outputs": [
    {
     "data": {
      "text/plain": [
       "age                           False\n",
       "gender                        False\n",
       "total bilirubin               False\n",
       "direct bilirubin              False\n",
       "alkaline phosphotase          False\n",
       "alamine aminotransferase      False\n",
       "aspartate aminotransferase    False\n",
       "total protiens                False\n",
       "albumin                       False\n",
       "albumin and globulin ratio    False\n",
       "result                        False\n",
       "dtype: bool"
      ]
     },
     "execution_count": 165,
     "metadata": {},
     "output_type": "execute_result"
    }
   ],
   "source": [
    "data.isnull().any()"
   ]
  },
  {
   "cell_type": "markdown",
   "id": "5a4f874b",
   "metadata": {},
   "source": [
    "# Plot Perbandingan Data Desease dan Healthy"
   ]
  },
  {
   "cell_type": "code",
   "execution_count": 166,
   "id": "de48f28b",
   "metadata": {},
   "outputs": [
    {
     "name": "stdout",
     "output_type": "stream",
     "text": [
      "With Desease :\n",
      "    total bilirubin  direct bilirubin  alkaline phosphotase  \\\n",
      "0              2.7               2.1                   187   \n",
      "1             12.9               5.5                   699   \n",
      "\n",
      "   alamine aminotransferase  aspartate aminotransferase  total protiens  \\\n",
      "0                        16                          18             6.8   \n",
      "1                        64                         122             7.5   \n",
      "\n",
      "   albumin  albumin and globulin ratio  \n",
      "0      3.3                        2.90  \n",
      "1      3.2                        2.74  \n",
      "Without Desease :\n",
      "     total bilirubin  direct bilirubin  alkaline phosphotase  \\\n",
      "11              0.9               0.2                   194   \n",
      "15              1.1               0.5                   128   \n",
      "\n",
      "    alamine aminotransferase  aspartate aminotransferase  total protiens  \\\n",
      "11                        52                          45             6.0   \n",
      "15                        20                          30             3.9   \n",
      "\n",
      "    albumin  albumin and globulin ratio  \n",
      "11      3.9                        1.85  \n",
      "15      1.9                        0.95  \n"
     ]
    },
    {
     "data": {
      "text/html": [
       "<div>\n",
       "<style scoped>\n",
       "    .dataframe tbody tr th:only-of-type {\n",
       "        vertical-align: middle;\n",
       "    }\n",
       "\n",
       "    .dataframe tbody tr th {\n",
       "        vertical-align: top;\n",
       "    }\n",
       "\n",
       "    .dataframe thead th {\n",
       "        text-align: right;\n",
       "    }\n",
       "</style>\n",
       "<table border=\"1\" class=\"dataframe\">\n",
       "  <thead>\n",
       "    <tr style=\"text-align: right;\">\n",
       "      <th></th>\n",
       "      <th>Chemicals</th>\n",
       "      <th>Mean_Values</th>\n",
       "      <th>Status</th>\n",
       "    </tr>\n",
       "  </thead>\n",
       "  <tbody>\n",
       "    <tr>\n",
       "      <th>0</th>\n",
       "      <td>total bilirubin</td>\n",
       "      <td>4.182709</td>\n",
       "      <td>Desease</td>\n",
       "    </tr>\n",
       "    <tr>\n",
       "      <th>1</th>\n",
       "      <td>direct bilirubin</td>\n",
       "      <td>1.904899</td>\n",
       "      <td>Desease</td>\n",
       "    </tr>\n",
       "    <tr>\n",
       "      <th>2</th>\n",
       "      <td>alkaline phosphotase</td>\n",
       "      <td>317.832853</td>\n",
       "      <td>Desease</td>\n",
       "    </tr>\n",
       "    <tr>\n",
       "      <th>3</th>\n",
       "      <td>alamine aminotransferase</td>\n",
       "      <td>88.293948</td>\n",
       "      <td>Desease</td>\n",
       "    </tr>\n",
       "    <tr>\n",
       "      <th>4</th>\n",
       "      <td>aspartate aminotransferase</td>\n",
       "      <td>116.475504</td>\n",
       "      <td>Desease</td>\n",
       "    </tr>\n",
       "    <tr>\n",
       "      <th>5</th>\n",
       "      <td>total protiens</td>\n",
       "      <td>6.456196</td>\n",
       "      <td>Desease</td>\n",
       "    </tr>\n",
       "    <tr>\n",
       "      <th>6</th>\n",
       "      <td>albumin</td>\n",
       "      <td>3.064265</td>\n",
       "      <td>Desease</td>\n",
       "    </tr>\n",
       "    <tr>\n",
       "      <th>7</th>\n",
       "      <td>albumin and globulin ratio</td>\n",
       "      <td>0.936081</td>\n",
       "      <td>Desease</td>\n",
       "    </tr>\n",
       "    <tr>\n",
       "      <th>8</th>\n",
       "      <td>total bilirubin</td>\n",
       "      <td>1.074265</td>\n",
       "      <td>Healthy</td>\n",
       "    </tr>\n",
       "    <tr>\n",
       "      <th>9</th>\n",
       "      <td>direct bilirubin</td>\n",
       "      <td>0.361765</td>\n",
       "      <td>Healthy</td>\n",
       "    </tr>\n",
       "    <tr>\n",
       "      <th>10</th>\n",
       "      <td>alkaline phosphotase</td>\n",
       "      <td>209.536765</td>\n",
       "      <td>Healthy</td>\n",
       "    </tr>\n",
       "    <tr>\n",
       "      <th>11</th>\n",
       "      <td>alamine aminotransferase</td>\n",
       "      <td>30.838235</td>\n",
       "      <td>Healthy</td>\n",
       "    </tr>\n",
       "    <tr>\n",
       "      <th>12</th>\n",
       "      <td>aspartate aminotransferase</td>\n",
       "      <td>39.044118</td>\n",
       "      <td>Healthy</td>\n",
       "    </tr>\n",
       "    <tr>\n",
       "      <th>13</th>\n",
       "      <td>total protiens</td>\n",
       "      <td>6.527206</td>\n",
       "      <td>Healthy</td>\n",
       "    </tr>\n",
       "    <tr>\n",
       "      <th>14</th>\n",
       "      <td>albumin</td>\n",
       "      <td>3.345588</td>\n",
       "      <td>Healthy</td>\n",
       "    </tr>\n",
       "    <tr>\n",
       "      <th>15</th>\n",
       "      <td>albumin and globulin ratio</td>\n",
       "      <td>1.021324</td>\n",
       "      <td>Healthy</td>\n",
       "    </tr>\n",
       "  </tbody>\n",
       "</table>\n",
       "</div>"
      ],
      "text/plain": [
       "                     Chemicals  Mean_Values   Status\n",
       "0              total bilirubin     4.182709  Desease\n",
       "1             direct bilirubin     1.904899  Desease\n",
       "2         alkaline phosphotase   317.832853  Desease\n",
       "3     alamine aminotransferase    88.293948  Desease\n",
       "4   aspartate aminotransferase   116.475504  Desease\n",
       "5               total protiens     6.456196  Desease\n",
       "6                      albumin     3.064265  Desease\n",
       "7   albumin and globulin ratio     0.936081  Desease\n",
       "8              total bilirubin     1.074265  Healthy\n",
       "9             direct bilirubin     0.361765  Healthy\n",
       "10        alkaline phosphotase   209.536765  Healthy\n",
       "11    alamine aminotransferase    30.838235  Healthy\n",
       "12  aspartate aminotransferase    39.044118  Healthy\n",
       "13              total protiens     6.527206  Healthy\n",
       "14                     albumin     3.345588  Healthy\n",
       "15  albumin and globulin ratio     1.021324  Healthy"
      ]
     },
     "execution_count": 166,
     "metadata": {},
     "output_type": "execute_result"
    },
    {
     "data": {
      "image/png": "[encoded data removed]",
      "text/plain": [
       "<Figure size 1440x576 with 1 Axes>"
      ]
     },
     "metadata": {
      "needs_background": "light"
     },
     "output_type": "display_data"
    }
   ],
   "source": [
    "with_desease = data[data['result']==1]\n",
    "with_desease = with_desease.drop(columns=['gender','age','result'])\n",
    "names1 = with_desease.columns.unique()\n",
    "mean_of_feature = with_desease.mean(axis=0, skipna=True)\n",
    "\n",
    "\n",
    "without_desease = data[data['result']==0]\n",
    "without_desease = without_desease.drop(columns=['gender','age','result'])\n",
    "names2 = without_desease.columns.unique()\n",
    "mean_of_feature2 = without_desease.mean(axis=0, skipna=True)\n",
    "\n",
    "\n",
    "print(\"With Desease :\\n\", with_desease.head(2))\n",
    "print(\"Without Desease :\\n\", without_desease.head(2))\n",
    "\n",
    "\n",
    "people =[]\n",
    "\n",
    "for x, y in zip(names1, mean_of_feature):\n",
    "    people.append([x,y,'Desease'])\n",
    "\n",
    "for x, y in zip(names2, mean_of_feature2):\n",
    "    people.append([x,y,'Healthy'])\n",
    "    \n",
    "    \n",
    "    #\n",
    "new_data = pd.DataFrame(people, columns=['Chemicals','Mean_Values','Status'])\n",
    "\n",
    "\n",
    "fig = plt.figure(figsize=(20, 8))\n",
    "plt.title(\"Comparison - Diseas vs Healthy\", size = 20, loc='center')\n",
    "plt.xticks(\n",
    "    rotation = 30,\n",
    "    weight = 'bold',\n",
    "    family= 'monospace',\n",
    "    size ='large'\n",
    "        \n",
    ")\n",
    "plt.yticks(\n",
    "    weight='bold',\n",
    "    family = 'monospace',\n",
    "    size = 'large'\n",
    ")\n",
    "\n",
    "g1 = sns.barplot(\n",
    "    x = 'Chemicals', \n",
    "    y='Mean_Values', \n",
    "    hue='Status', \n",
    "    data= new_data, \n",
    "    palette=\"RdPu_r\"\n",
    ")\n",
    "new_data"
   ]
  },
  {
   "cell_type": "markdown",
   "id": "5e70d794",
   "metadata": {},
   "source": [
    "# Plot Perbandingan Total Male Female dan Desease dan Healthy"
   ]
  },
  {
   "cell_type": "code",
   "execution_count": 167,
   "id": "ef057fb1",
   "metadata": {},
   "outputs": [
    {
     "data": {
      "text/plain": [
       "[None, None, None, None]"
      ]
     },
     "execution_count": 167,
     "metadata": {},
     "output_type": "execute_result"
    },
    {
     "data": {
      "image/png": "[encoded data removed]",
      "text/plain": [
       "<Figure size 1080x432 with 3 Axes>"
      ]
     },
     "metadata": {},
     "output_type": "display_data"
    }
   ],
   "source": [
    "fig = plt.figure(figsize=(15, 6), frameon=False)\n",
    "plt.title(\"Total Data\", loc='center', weight=10, size=15)\n",
    "plt.xticks([])\n",
    "plt.yticks([])\n",
    "\n",
    "ax1 = fig.add_subplot(121)\n",
    "ax2 = fig.add_subplot(122)\n",
    "\n",
    "\n",
    "only_geder = data[\"gender\"]\n",
    "\n",
    "male_tot = only_geder[only_geder=='Male']\n",
    "\n",
    "no_of_male = len(male_tot)\n",
    "no_of_fmale = len(data)-len(male_tot)\n",
    "\n",
    "m_vs_f = [no_of_male, no_of_fmale]\n",
    "\n",
    "with_disease = data[data['result']==1]\n",
    "not_with_disease = data[data['result']==0]\n",
    "\n",
    "#with_desease =  with_desease[\"Gender\"]\n",
    "\n",
    "no_of_disease = len(with_desease)\n",
    "no_of_not_disease = len(data)-len(with_desease)\n",
    "\n",
    "d_vs_healty = [no_of_disease, no_of_not_disease]\n",
    "\n",
    "ax1.axis('equal')\n",
    "ax2.axis('equal')\n",
    "\n",
    "wedges, texts, autotext = ax1.pie(\n",
    "    m_vs_f,\n",
    "    labels = ('Male','FMale'),\n",
    "    radius=1,\n",
    "    textprops = dict(color='k'),\n",
    "    colors=['xkcd:ocean blue','xkcd:dark pink'],\n",
    "    autopct = \"%1.1f%%\"\n",
    ")\n",
    "wedges2, texts2, autotext2 =ax2.pie(\n",
    "    d_vs_healty,\n",
    "    labels=('Diseased','Not Diseased'),\n",
    "    radius = 1,\n",
    "    textprops=dict(color='k'),\n",
    "    colors = [\"#d95f02\",\"#1b9e77\"],\n",
    "    autopct = \"%1.1f%%\"\n",
    ")\n",
    "\n",
    "plt.setp(autotext, size=20)\n",
    "plt.setp(texts, size=20)\n",
    "\n",
    "plt.setp(autotext2, size=20)\n",
    "plt.setp(autotext2, size=20)"
   ]
  },
  {
   "cell_type": "markdown",
   "id": "4ffa023d",
   "metadata": {},
   "source": [
    "## Menghitung Korelasi Menggunakan Pearson"
   ]
  },
  {
   "cell_type": "code",
   "execution_count": 168,
   "id": "7528e042",
   "metadata": {},
   "outputs": [],
   "source": [
    "pearsoncorr = data.corr(method='pearson')"
   ]
  },
  {
   "cell_type": "code",
   "execution_count": 169,
   "id": "df23d55e",
   "metadata": {},
   "outputs": [
    {
     "data": {
      "text/plain": [
       "<AxesSubplot:>"
      ]
     },
     "execution_count": 169,
     "metadata": {},
     "output_type": "execute_result"
    },
    {
     "data": {
      "image/png": "[encoded data removed]",
      "text/plain": [
       "<Figure size 1080x720 with 2 Axes>"
      ]
     },
     "metadata": {
      "needs_background": "light"
     },
     "output_type": "display_data"
    }
   ],
   "source": [
    "fig, ax = plt.subplots(figsize=(15, 10))\n",
    "sns.heatmap(pearsoncorr, \n",
    "            xticklabels=pearsoncorr.columns,\n",
    "            yticklabels=pearsoncorr.columns,\n",
    "            cmap='RdBu_r',\n",
    "            annot=True)"
   ]
  },
  {
   "cell_type": "markdown",
   "id": "ab23ce60",
   "metadata": {},
   "source": [
    "## Label encoder"
   ]
  },
  {
   "cell_type": "code",
   "execution_count": 170,
   "id": "d71d8304",
   "metadata": {},
   "outputs": [
    {
     "data": {
      "text/html": [
       "<div>\n",
       "<style scoped>\n",
       "    .dataframe tbody tr th:only-of-type {\n",
       "        vertical-align: middle;\n",
       "    }\n",
       "\n",
       "    .dataframe tbody tr th {\n",
       "        vertical-align: top;\n",
       "    }\n",
       "\n",
       "    .dataframe thead th {\n",
       "        text-align: right;\n",
       "    }\n",
       "</style>\n",
       "<table border=\"1\" class=\"dataframe\">\n",
       "  <thead>\n",
       "    <tr style=\"text-align: right;\">\n",
       "      <th></th>\n",
       "      <th>age</th>\n",
       "      <th>gender</th>\n",
       "      <th>total bilirubin</th>\n",
       "      <th>direct bilirubin</th>\n",
       "      <th>alkaline phosphotase</th>\n",
       "      <th>alamine aminotransferase</th>\n",
       "      <th>aspartate aminotransferase</th>\n",
       "      <th>total protiens</th>\n",
       "      <th>albumin</th>\n",
       "      <th>albumin and globulin ratio</th>\n",
       "      <th>result</th>\n",
       "    </tr>\n",
       "  </thead>\n",
       "  <tbody>\n",
       "    <tr>\n",
       "      <th>0</th>\n",
       "      <td>65</td>\n",
       "      <td>0</td>\n",
       "      <td>2.7</td>\n",
       "      <td>2.1</td>\n",
       "      <td>187</td>\n",
       "      <td>16</td>\n",
       "      <td>18</td>\n",
       "      <td>6.8</td>\n",
       "      <td>3.3</td>\n",
       "      <td>2.90</td>\n",
       "      <td>1</td>\n",
       "    </tr>\n",
       "    <tr>\n",
       "      <th>1</th>\n",
       "      <td>62</td>\n",
       "      <td>1</td>\n",
       "      <td>12.9</td>\n",
       "      <td>5.5</td>\n",
       "      <td>699</td>\n",
       "      <td>64</td>\n",
       "      <td>122</td>\n",
       "      <td>7.5</td>\n",
       "      <td>3.2</td>\n",
       "      <td>2.74</td>\n",
       "      <td>1</td>\n",
       "    </tr>\n",
       "    <tr>\n",
       "      <th>2</th>\n",
       "      <td>62</td>\n",
       "      <td>1</td>\n",
       "      <td>7.3</td>\n",
       "      <td>4.1</td>\n",
       "      <td>492</td>\n",
       "      <td>62</td>\n",
       "      <td>68</td>\n",
       "      <td>7.0</td>\n",
       "      <td>3.3</td>\n",
       "      <td>2.89</td>\n",
       "      <td>1</td>\n",
       "    </tr>\n",
       "    <tr>\n",
       "      <th>3</th>\n",
       "      <td>58</td>\n",
       "      <td>1</td>\n",
       "      <td>1.0</td>\n",
       "      <td>0.4</td>\n",
       "      <td>182</td>\n",
       "      <td>14</td>\n",
       "      <td>20</td>\n",
       "      <td>6.8</td>\n",
       "      <td>3.4</td>\n",
       "      <td>1.00</td>\n",
       "      <td>1</td>\n",
       "    </tr>\n",
       "    <tr>\n",
       "      <th>4</th>\n",
       "      <td>72</td>\n",
       "      <td>1</td>\n",
       "      <td>3.9</td>\n",
       "      <td>2.0</td>\n",
       "      <td>195</td>\n",
       "      <td>27</td>\n",
       "      <td>59</td>\n",
       "      <td>7.3</td>\n",
       "      <td>2.4</td>\n",
       "      <td>0.40</td>\n",
       "      <td>1</td>\n",
       "    </tr>\n",
       "  </tbody>\n",
       "</table>\n",
       "</div>"
      ],
      "text/plain": [
       "   age  gender  total bilirubin  direct bilirubin  alkaline phosphotase  \\\n",
       "0   65       0              2.7               2.1                   187   \n",
       "1   62       1             12.9               5.5                   699   \n",
       "2   62       1              7.3               4.1                   492   \n",
       "3   58       1              1.0               0.4                   182   \n",
       "4   72       1              3.9               2.0                   195   \n",
       "\n",
       "   alamine aminotransferase  aspartate aminotransferase  total protiens  \\\n",
       "0                        16                          18             6.8   \n",
       "1                        64                         122             7.5   \n",
       "2                        62                          68             7.0   \n",
       "3                        14                          20             6.8   \n",
       "4                        27                          59             7.3   \n",
       "\n",
       "   albumin  albumin and globulin ratio  result  \n",
       "0      3.3                        2.90       1  \n",
       "1      3.2                        2.74       1  \n",
       "2      3.3                        2.89       1  \n",
       "3      3.4                        1.00       1  \n",
       "4      2.4                        0.40       1  "
      ]
     },
     "execution_count": 170,
     "metadata": {},
     "output_type": "execute_result"
    }
   ],
   "source": [
    "le = LabelEncoder()\n",
    "data.gender = le.fit_transform(data.gender)\n",
    "data.head()"
   ]
  },
  {
   "cell_type": "markdown",
   "id": "d6e54d71",
   "metadata": {},
   "source": [
    "## Split Data train dan data test"
   ]
  },
  {
   "cell_type": "code",
   "execution_count": 171,
   "id": "47655e06",
   "metadata": {},
   "outputs": [],
   "source": [
    "# Scale features\n",
    "#sc1 = MinMaxScaler()\n",
    "#X = sc1.fit_transform(data[['Ages','Gender','TB','DB','AAP','SGPT','SGOT','TP','ALB','A/G']])\n",
    "\n",
    "# Scale predicted value\n",
    "#sc2 = MinMaxScaler()\n",
    "#y = sc2.fit_transform(data[['Diagnosis']])\n",
    "\n",
    "X = data.iloc[:,:-1].values\n",
    "y = data.iloc[:,-1]\n",
    "#for u in range(len(y)):\n",
    "    #if y[u] == 2:\n",
    "       #y[u] = 0"
   ]
  },
  {
   "cell_type": "code",
   "execution_count": 172,
   "id": "2be65d93",
   "metadata": {},
   "outputs": [
    {
     "data": {
      "text/plain": [
       "array([[65.  ,  0.  ,  2.7 , ...,  6.8 ,  3.3 ,  2.9 ],\n",
       "       [62.  ,  1.  , 12.9 , ...,  7.5 ,  3.2 ,  2.74],\n",
       "       [62.  ,  1.  ,  7.3 , ...,  7.  ,  3.3 ,  2.89],\n",
       "       ...,\n",
       "       [52.  ,  1.  ,  0.8 , ...,  6.4 ,  3.2 ,  1.  ],\n",
       "       [31.  ,  1.  ,  1.3 , ...,  6.8 ,  3.4 ,  1.  ],\n",
       "       [38.  ,  1.  ,  1.  , ...,  7.3 ,  4.4 ,  1.5 ]])"
      ]
     },
     "execution_count": 172,
     "metadata": {},
     "output_type": "execute_result"
    }
   ],
   "source": [
    "X"
   ]
  },
  {
   "cell_type": "code",
   "execution_count": 173,
   "id": "6d8ebef9",
   "metadata": {},
   "outputs": [
    {
     "data": {
      "text/plain": [
       "0       1\n",
       "1       1\n",
       "2       1\n",
       "3       1\n",
       "4       1\n",
       "       ..\n",
       "2893    0\n",
       "2894    1\n",
       "2895    1\n",
       "2896    1\n",
       "2897    0\n",
       "Name: result, Length: 2898, dtype: int64"
      ]
     },
     "execution_count": 173,
     "metadata": {},
     "output_type": "execute_result"
    }
   ],
   "source": [
    "y"
   ]
  },
  {
   "cell_type": "code",
   "execution_count": 174,
   "id": "ab57a116",
   "metadata": {},
   "outputs": [],
   "source": [
    "X_train, X_test, y_train, y_test = train_test_split(X, y, random_state = 42, test_size=0.2)"
   ]
  },
  {
   "cell_type": "code",
   "execution_count": 175,
   "id": "6817ba16",
   "metadata": {},
   "outputs": [
    {
     "data": {
      "text/plain": [
       "0.14135858419579905"
      ]
     },
     "execution_count": 175,
     "metadata": {},
     "output_type": "execute_result"
    }
   ],
   "source": [
    "# fit the model\n",
    "model = LinearRegression()\n",
    "model.fit(X_train, y_train)\n",
    "model.score(X_train, y_train)"
   ]
  },
  {
   "cell_type": "markdown",
   "id": "2d8c2a5d",
   "metadata": {},
   "source": [
    "## Skalakan Data"
   ]
  },
  {
   "cell_type": "code",
   "execution_count": 176,
   "id": "7e5dd78e",
   "metadata": {},
   "outputs": [
    {
     "name": "stdout",
     "output_type": "stream",
     "text": [
      "\n",
      "-------------------------------------------------------------------------\n",
      "\n",
      "hasil transformasi nilai X_train : \n",
      " [[-0.37384111 -0.45945671  0.24503242 ...  1.41393508  1.07530105\n",
      "   0.10065818]\n",
      " [-0.25245877 -0.17300683 -0.45320778 ...  0.6697038   0.5719594\n",
      "   0.10065818]\n",
      " [ 0.08134266  0.18505552 -0.3908649  ...  0.76273271 -0.93806554\n",
      "  -1.52417231]\n",
      " ...\n",
      " [-0.41935948 -0.45945671 -0.78570311 ... -1.37693221  0.19445317\n",
      "   2.53790391]\n",
      " [ 0.23307058  0.43569917 -0.41164586 ...  0.57667489 -0.30888848\n",
      "  -0.71175707]\n",
      " [-0.3890139  -0.45945671  0.08294095 ...  0.29758816  1.20113646\n",
      "   1.48176409]]\n",
      "\n",
      "-------------------------------------------------------------------------\n",
      "\n",
      "hasil transformasi nilai X_test : \n",
      " [[-0.03426083 -0.04374695 -0.32198325 ... -3.01123495 -2.03274293\n",
      "   0.14494444]\n",
      " [-0.41096762 -0.44707869 -0.4043746  ...  0.643475    1.69588104\n",
      "   2.0245085 ]\n",
      " [ 0.7944941   0.98291565  1.08896857 ...  0.46944119  0.20443145\n",
      "   5.52733244]\n",
      " ...\n",
      " [-0.37329694 -0.41041217 -0.46616811 ...  1.25259332  0.82586878\n",
      "  -0.139838  ]\n",
      " [-0.20377889 -0.3004126  -0.36832839 ... -0.66177855 -0.16843094\n",
      "   0.42972687]\n",
      " [-0.42980296 -0.44707869  0.02817997 ...  0.55645809  1.07444371\n",
      "   0.71450931]]\n",
      "\n",
      "-------------------------------------------------------------------------\n",
      "\n"
     ]
    }
   ],
   "source": [
    "sc = StandardScaler()\n",
    "X_train[:,2:] = sc.fit_transform(X_train[:,2:]) \n",
    "X_test[:,2:] = sc.fit_transform(X_test[:,2:]) \n",
    "print(\"\\n-------------------------------------------------------------------------\\n\")\n",
    "print(\"hasil transformasi nilai X_train : \\n\", X_train[:,2:])\n",
    "print(\"\\n-------------------------------------------------------------------------\\n\")\n",
    "print(\"hasil transformasi nilai X_test : \\n\", X_test[:,2:])\n",
    "print(\"\\n-------------------------------------------------------------------------\\n\")"
   ]
  },
  {
   "cell_type": "markdown",
   "id": "0201123e",
   "metadata": {},
   "source": [
    "# Pemodelan dan Prediksi\n",
    "## KNN Classifier"
   ]
  },
  {
   "cell_type": "code",
   "execution_count": 177,
   "id": "aa1cd23b",
   "metadata": {},
   "outputs": [
    {
     "name": "stdout",
     "output_type": "stream",
     "text": [
      "              precision    recall  f1-score   support\n",
      "\n",
      "           0       0.94      0.95      0.94       156\n",
      "           1       0.98      0.98      0.98       424\n",
      "\n",
      "    accuracy                           0.97       580\n",
      "   macro avg       0.96      0.96      0.96       580\n",
      "weighted avg       0.97      0.97      0.97       580\n",
      "\n",
      "------------------------------------------------------\n",
      "The accuracy KNN: \n",
      " =  0.9689655172413794\n",
      "------------------------------------------------------\n"
     ]
    }
   ],
   "source": [
    "classifier_knn = KNeighborsClassifier()\n",
    "classifier_knn.fit(X_train, y_train)\n",
    "y_pred_knn = classifier_knn.predict(X_test)\n",
    "\n",
    "accuracy_knn = accuracy_score(y_test, y_pred_knn)\n",
    "print(classification_report(y_test, y_pred_knn))\n",
    "print(\"------------------------------------------------------\")\n",
    "print(\"The accuracy KNN: \\n = \", accuracy_knn)\n",
    "print(\"------------------------------------------------------\")"
   ]
  },
  {
   "cell_type": "markdown",
   "id": "4e622e07",
   "metadata": {},
   "source": [
    "## Random Forest"
   ]
  },
  {
   "cell_type": "code",
   "execution_count": 178,
   "id": "c55bcc50",
   "metadata": {},
   "outputs": [
    {
     "name": "stdout",
     "output_type": "stream",
     "text": [
      "RandomForestClassifier(criterion='entropy', n_estimators=250, random_state=0)\n",
      "              precision    recall  f1-score   support\n",
      "\n",
      "           0       0.98      0.98      0.98       156\n",
      "           1       0.99      0.99      0.99       424\n",
      "\n",
      "    accuracy                           0.99       580\n",
      "   macro avg       0.99      0.99      0.99       580\n",
      "weighted avg       0.99      0.99      0.99       580\n",
      "\n",
      "------------------------------------------------------\n",
      "The accuracy Random Forest: \n",
      " = 0.9896551724137931\n",
      "------------------------------------------------------\n"
     ]
    }
   ],
   "source": [
    "rf = RandomForestClassifier(n_estimators=250, criterion='entropy', random_state=0)\n",
    "\n",
    "rf.fit(X_train, y_train)\n",
    "\n",
    "y_pred_rf = rf.predict(X_test)\n",
    "print(rf)\n",
    "\n",
    "accuracy_rf = accuracy_score(y_test, y_pred_rf)\n",
    "print(classification_report(y_test, y_pred_rf))\n",
    "\n",
    "print(\"------------------------------------------------------\")\n",
    "print(\"The accuracy Random Forest: \\n =\", accuracy_rf)\n",
    "print(\"------------------------------------------------------\")"
   ]
  },
  {
   "cell_type": "markdown",
   "id": "596a6ba1",
   "metadata": {},
   "source": [
    "# Plot Perbandingan Akurasi"
   ]
  },
  {
   "cell_type": "code",
   "execution_count": 179,
   "id": "cd3930a3",
   "metadata": {},
   "outputs": [
    {
     "data": {
      "text/html": [
       "<div>\n",
       "<style scoped>\n",
       "    .dataframe tbody tr th:only-of-type {\n",
       "        vertical-align: middle;\n",
       "    }\n",
       "\n",
       "    .dataframe tbody tr th {\n",
       "        vertical-align: top;\n",
       "    }\n",
       "\n",
       "    .dataframe thead th {\n",
       "        text-align: right;\n",
       "    }\n",
       "</style>\n",
       "<table border=\"1\" class=\"dataframe\">\n",
       "  <thead>\n",
       "    <tr style=\"text-align: right;\">\n",
       "      <th></th>\n",
       "      <th>Model</th>\n",
       "      <th>Accuracy</th>\n",
       "    </tr>\n",
       "  </thead>\n",
       "  <tbody>\n",
       "    <tr>\n",
       "      <th>0</th>\n",
       "      <td>KNN</td>\n",
       "      <td>96.896552</td>\n",
       "    </tr>\n",
       "    <tr>\n",
       "      <th>1</th>\n",
       "      <td>Random Forest</td>\n",
       "      <td>98.965517</td>\n",
       "    </tr>\n",
       "  </tbody>\n",
       "</table>\n",
       "</div>"
      ],
      "text/plain": [
       "           Model   Accuracy\n",
       "0            KNN  96.896552\n",
       "1  Random Forest  98.965517"
      ]
     },
     "execution_count": 179,
     "metadata": {},
     "output_type": "execute_result"
    }
   ],
   "source": [
    "model_comparations =[['KNN', accuracy_knn*100],\n",
    "                    ['Random Forest', accuracy_rf*100]]\n",
    "                    \n",
    "\n",
    "model_comparations_df = pd.DataFrame(model_comparations,\n",
    "                                     columns=['Model','Accuracy']\n",
    "                                    )\n",
    "\n",
    "model_comparations_df"
   ]
  },
  {
   "cell_type": "code",
   "execution_count": 180,
   "id": "8ae72a9d",
   "metadata": {
    "scrolled": true
   },
   "outputs": [
    {
     "data": {
      "image/png": "[encoded data removed]",
      "text/plain": [
       "<Figure size 1440x576 with 1 Axes>"
      ]
     },
     "metadata": {
      "needs_background": "light"
     },
     "output_type": "display_data"
    }
   ],
   "source": [
    "fig = plt.figure(figsize=(20,8))\n",
    "sns.set()\n",
    "sns.barplot(x='Model',\n",
    "            y='Accuracy', \n",
    "            data=model_comparations_df,\n",
    "            palette='Dark2'\n",
    "           )\n",
    "\n",
    "plt.xticks(size=18)\n",
    "plt.ylabel('Accuracy', size=14)\n",
    "plt.xlabel('Model', size=14)\n",
    "plt.show()"
   ]
  },
  {
   "cell_type": "markdown",
   "id": "c31d051b",
   "metadata": {},
   "source": [
    "# K fold Cross Val"
   ]
  },
  {
   "cell_type": "code",
   "execution_count": 181,
   "id": "49af3f97",
   "metadata": {},
   "outputs": [
    {
     "name": "stdout",
     "output_type": "stream",
     "text": [
      "[0.96336207 0.95043103 0.88577586 0.92224622 0.94600432]\n",
      "0.9335639010948089\n",
      "AUC: 0.93 (+/- 0.05)\n"
     ]
    }
   ],
   "source": [
    "sc1 = cross_val_score (classifier_knn, X_train, y_train, cv = 5)\n",
    "print(sc1)\n",
    "print(sc1.mean())\n",
    "print(\"AUC: %0.2f (+/- %0.2f)\" % (sc1.mean(), sc1.std() * 2))"
   ]
  },
  {
   "cell_type": "code",
   "execution_count": 182,
   "id": "b542c6eb",
   "metadata": {},
   "outputs": [
    {
     "name": "stdout",
     "output_type": "stream",
     "text": [
      "[0.99568966 1.         1.         1.         1.        ]\n",
      "0.9991379310344828\n",
      "AUC: 1.00 (+/- 0.00)\n"
     ]
    }
   ],
   "source": [
    "sc3 = cross_val_score (rf, X_train, y_train, cv = 5)\n",
    "print(sc3)\n",
    "print(sc3.mean())\n",
    "print(\"AUC: %0.2f (+/- %0.2f)\" % (sc3.mean(), sc3.std() * 2))"
   ]
  },
  {
   "cell_type": "markdown",
   "id": "3a33d30b",
   "metadata": {},
   "source": [
    "## Confusion Matrix"
   ]
  },
  {
   "cell_type": "code",
   "execution_count": 183,
   "id": "983271e9",
   "metadata": {},
   "outputs": [
    {
     "data": {
      "image/png": "[encoded data removed]",
      "text/plain": [
       "<Figure size 432x288 with 2 Axes>"
      ]
     },
     "metadata": {},
     "output_type": "display_data"
    },
    {
     "name": "stdout",
     "output_type": "stream",
     "text": [
      "[[147   9]\n",
      " [ 11 413]]\n"
     ]
    }
   ],
   "source": [
    "def plot_confusion_matrix(y_pred_rf, y_pred_knn):\n",
    "    acc = round(accuracy_score(y_pred_rf, y_pred_knn), 2)\n",
    "    cm = confusion_matrix(y_pred_rf, y_pred_knn)\n",
    "    sns.heatmap(cm, annot=True, fmt=\".0f\")\n",
    "    plt.xlabel('X')\n",
    "    plt.ylabel('Y')\n",
    "    plt.title('Accuracy Score: {0}'.format(acc), size=10)\n",
    "    plt.show()\n",
    "\n",
    "plot_confusion_matrix(y_pred_rf, y_pred_knn)\n",
    "print(confusion_matrix(y_pred_rf, y_pred_knn))"
   ]
  },
  {
   "cell_type": "code",
   "execution_count": 184,
   "id": "36c0d25e",
   "metadata": {},
   "outputs": [],
   "source": [
    "TP = 147\n",
    "TN = 9\n",
    "FP = 11\n",
    "FN = 413"
   ]
  },
  {
   "cell_type": "code",
   "execution_count": 185,
   "id": "6db030e7",
   "metadata": {},
   "outputs": [
    {
     "data": {
      "text/plain": [
       "0.2689655172413793"
      ]
     },
     "execution_count": 185,
     "metadata": {},
     "output_type": "execute_result"
    }
   ],
   "source": [
    "accuracy= (TN+TP)/(TN+TP+FN+FP)\n",
    "accuracy"
   ]
  },
  {
   "cell_type": "code",
   "execution_count": 186,
   "id": "1f68d09e",
   "metadata": {},
   "outputs": [
    {
     "data": {
      "text/plain": [
       "0.930379746835443"
      ]
     },
     "execution_count": 186,
     "metadata": {},
     "output_type": "execute_result"
    }
   ],
   "source": [
    "precision= TP/(TP+FP)\n",
    "precision"
   ]
  },
  {
   "cell_type": "code",
   "execution_count": 187,
   "id": "f4d4676d",
   "metadata": {},
   "outputs": [
    {
     "data": {
      "text/plain": [
       "0.2625"
      ]
     },
     "execution_count": 187,
     "metadata": {},
     "output_type": "execute_result"
    }
   ],
   "source": [
    "recall= TP/(TP+FN)\n",
    "recall"
   ]
  },
  {
   "cell_type": "code",
   "execution_count": 188,
   "id": "0dd5e7dc",
   "metadata": {},
   "outputs": [
    {
     "data": {
      "text/plain": [
       "0.40947075208913647"
      ]
     },
     "execution_count": 188,
     "metadata": {},
     "output_type": "execute_result"
    }
   ],
   "source": [
    "f1meas= (2*precision*recall)/(precision+recall)\n",
    "f1meas"
   ]
  },
  {
   "cell_type": "code",
   "execution_count": null,
   "id": "c937128c",
   "metadata": {},
   "outputs": [],
   "source": []
  }
 ],
 "metadata": {
  "kernelspec": {
   "display_name": "Python 3 (ipykernel)",
   "language": "python",
   "name": "python3"
  },
  "language_info": {
   "codemirror_mode": {
    "name": "ipython",
    "version": 3
   },
   "file_extension": ".py",
   "mimetype": "text/x-python",
   "name": "python",
   "nbconvert_exporter": "python",
   "pygments_lexer": "ipython3",
   "version": "3.9.12"
  }
 },
 "nbformat": 4,
 "nbformat_minor": 5
}

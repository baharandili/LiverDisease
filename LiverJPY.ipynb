{
 "cells": [
  {
   "cell_type": "code",
   "execution_count": 327,
   "id": "1562a5f4",
   "metadata": {},
   "outputs": [],
   "source": [
    "import numpy as np\n",
    "import pandas as pd\n",
    "from matplotlib import pyplot as plt\n",
    "%matplotlib inline\n",
    "import seaborn as sns\n",
    "from sklearn.preprocessing import LabelEncoder\n",
    "from sklearn.model_selection import train_test_split\n",
    "from sklearn.preprocessing import StandardScaler\n",
    "from sklearn.neighbors import KNeighborsClassifier\n",
    "from sklearn.metrics import confusion_matrix\n",
    "from sklearn.metrics import classification_report\n",
    "from sklearn.metrics import accuracy_score\n",
    "from sklearn.naive_bayes import GaussianNB"
   ]
  },
  {
   "cell_type": "markdown",
   "id": "6c98ffc8",
   "metadata": {},
   "source": [
    "# Load Data liver"
   ]
  },
  {
   "cell_type": "code",
   "execution_count": 328,
   "id": "4f1f1472",
   "metadata": {},
   "outputs": [
    {
     "data": {
      "text/html": [
       "<div>\n",
       "<style scoped>\n",
       "    .dataframe tbody tr th:only-of-type {\n",
       "        vertical-align: middle;\n",
       "    }\n",
       "\n",
       "    .dataframe tbody tr th {\n",
       "        vertical-align: top;\n",
       "    }\n",
       "\n",
       "    .dataframe thead th {\n",
       "        text-align: right;\n",
       "    }\n",
       "</style>\n",
       "<table border=\"1\" class=\"dataframe\">\n",
       "  <thead>\n",
       "    <tr style=\"text-align: right;\">\n",
       "      <th></th>\n",
       "      <th>Ages</th>\n",
       "      <th>Gender</th>\n",
       "      <th>TB</th>\n",
       "      <th>DB</th>\n",
       "      <th>AAP</th>\n",
       "      <th>SGPT</th>\n",
       "      <th>SGOT</th>\n",
       "      <th>TP</th>\n",
       "      <th>ALB</th>\n",
       "      <th>A/G</th>\n",
       "      <th>Diagnosis</th>\n",
       "    </tr>\n",
       "  </thead>\n",
       "  <tbody>\n",
       "    <tr>\n",
       "      <th>0</th>\n",
       "      <td>62</td>\n",
       "      <td>Male</td>\n",
       "      <td>10.9</td>\n",
       "      <td>5.5</td>\n",
       "      <td>699</td>\n",
       "      <td>64</td>\n",
       "      <td>100</td>\n",
       "      <td>7.5</td>\n",
       "      <td>3.2</td>\n",
       "      <td>0.74</td>\n",
       "      <td>1</td>\n",
       "    </tr>\n",
       "    <tr>\n",
       "      <th>1</th>\n",
       "      <td>62</td>\n",
       "      <td>Male</td>\n",
       "      <td>7.3</td>\n",
       "      <td>4.1</td>\n",
       "      <td>490</td>\n",
       "      <td>60</td>\n",
       "      <td>68</td>\n",
       "      <td>7.0</td>\n",
       "      <td>3.3</td>\n",
       "      <td>0.89</td>\n",
       "      <td>1</td>\n",
       "    </tr>\n",
       "    <tr>\n",
       "      <th>2</th>\n",
       "      <td>58</td>\n",
       "      <td>Male</td>\n",
       "      <td>1.0</td>\n",
       "      <td>0.4</td>\n",
       "      <td>182</td>\n",
       "      <td>14</td>\n",
       "      <td>20</td>\n",
       "      <td>6.8</td>\n",
       "      <td>3.4</td>\n",
       "      <td>1.00</td>\n",
       "      <td>1</td>\n",
       "    </tr>\n",
       "    <tr>\n",
       "      <th>3</th>\n",
       "      <td>72</td>\n",
       "      <td>Male</td>\n",
       "      <td>3.9</td>\n",
       "      <td>2.0</td>\n",
       "      <td>195</td>\n",
       "      <td>27</td>\n",
       "      <td>59</td>\n",
       "      <td>7.3</td>\n",
       "      <td>2.4</td>\n",
       "      <td>0.40</td>\n",
       "      <td>1</td>\n",
       "    </tr>\n",
       "    <tr>\n",
       "      <th>4</th>\n",
       "      <td>46</td>\n",
       "      <td>Male</td>\n",
       "      <td>1.8</td>\n",
       "      <td>0.7</td>\n",
       "      <td>208</td>\n",
       "      <td>19</td>\n",
       "      <td>14</td>\n",
       "      <td>7.6</td>\n",
       "      <td>4.4</td>\n",
       "      <td>1.30</td>\n",
       "      <td>1</td>\n",
       "    </tr>\n",
       "  </tbody>\n",
       "</table>\n",
       "</div>"
      ],
      "text/plain": [
       "   Ages Gender    TB   DB  AAP  SGPT  SGOT   TP  ALB   A/G  Diagnosis\n",
       "0    62   Male  10.9  5.5  699    64   100  7.5  3.2  0.74          1\n",
       "1    62   Male   7.3  4.1  490    60    68  7.0  3.3  0.89          1\n",
       "2    58   Male   1.0  0.4  182    14    20  6.8  3.4  1.00          1\n",
       "3    72   Male   3.9  2.0  195    27    59  7.3  2.4  0.40          1\n",
       "4    46   Male   1.8  0.7  208    19    14  7.6  4.4  1.30          1"
      ]
     },
     "execution_count": 328,
     "metadata": {},
     "output_type": "execute_result"
    }
   ],
   "source": [
    "data = pd.read_csv('data_liver.csv')\n",
    "data = data.rename(index=str, columns={\"65\": \"Ages\",\n",
    "                                       \"Female\": \"Gender\",\n",
    "                                       \"0.7\": \"TB\",\n",
    "                                       \"0.1\": \"DB\",\n",
    "                                       \"187\": \"AAP\",\n",
    "                                       \"16\": \"SGPT\",\n",
    "                                       \"18\": \"SGOT\",\n",
    "                                       \"6.8\": \"TP\",\n",
    "                                       \"3.3\" : \"ALB\",\n",
    "                                       \"0.9\" : \"A/G\",\n",
    "                                       \"1\" : \"Diagnosis\"\n",
    "                                      })\n",
    "data.head()"
   ]
  },
  {
   "cell_type": "code",
   "execution_count": 329,
   "id": "e7d7cfa0",
   "metadata": {},
   "outputs": [],
   "source": [
    "data.to_csv(\"liver.csv\")"
   ]
  },
  {
   "cell_type": "markdown",
   "id": "9fa78139",
   "metadata": {},
   "source": [
    "# Data Pre-Processing\n",
    "## Fill Missing Value"
   ]
  },
  {
   "cell_type": "code",
   "execution_count": 330,
   "id": "92396ad6",
   "metadata": {},
   "outputs": [
    {
     "data": {
      "text/plain": [
       "Ages         False\n",
       "Gender       False\n",
       "TB           False\n",
       "DB           False\n",
       "AAP          False\n",
       "SGPT         False\n",
       "SGOT         False\n",
       "TP           False\n",
       "ALB          False\n",
       "A/G           True\n",
       "Diagnosis    False\n",
       "dtype: bool"
      ]
     },
     "execution_count": 330,
     "metadata": {},
     "output_type": "execute_result"
    }
   ],
   "source": [
    "data.isnull().any()"
   ]
  },
  {
   "cell_type": "code",
   "execution_count": 331,
   "id": "53c66a99",
   "metadata": {},
   "outputs": [
    {
     "name": "stderr",
     "output_type": "stream",
     "text": [
      "C:\\Users\\Bahar Andili\\AppData\\Local\\Temp\\ipykernel_8992\\2513612827.py:1: FutureWarning: Dropping of nuisance columns in DataFrame reductions (with 'numeric_only=None') is deprecated; in a future version this will raise TypeError.  Select only valid columns before calling the reduction.\n",
      "  data.fillna(data.mean(), inplace = True)\n"
     ]
    }
   ],
   "source": [
    "data.fillna(data.mean(), inplace = True)"
   ]
  },
  {
   "cell_type": "code",
   "execution_count": 332,
   "id": "0c7bf368",
   "metadata": {},
   "outputs": [
    {
     "data": {
      "text/plain": [
       "Ages         False\n",
       "Gender       False\n",
       "TB           False\n",
       "DB           False\n",
       "AAP          False\n",
       "SGPT         False\n",
       "SGOT         False\n",
       "TP           False\n",
       "ALB          False\n",
       "A/G          False\n",
       "Diagnosis    False\n",
       "dtype: bool"
      ]
     },
     "execution_count": 332,
     "metadata": {},
     "output_type": "execute_result"
    }
   ],
   "source": [
    "data.isnull().any()"
   ]
  },
  {
   "cell_type": "markdown",
   "id": "5a4f874b",
   "metadata": {},
   "source": [
    "# Plot Perbandingan Data Desease dan Healthy"
   ]
  },
  {
   "cell_type": "code",
   "execution_count": 333,
   "id": "de48f28b",
   "metadata": {},
   "outputs": [
    {
     "name": "stdout",
     "output_type": "stream",
     "text": [
      "With Desease :\n",
      "      TB   DB  AAP  SGPT  SGOT   TP  ALB   A/G\n",
      "0  10.9  5.5  699    64   100  7.5  3.2  0.74\n",
      "1   7.3  4.1  490    60    68  7.0  3.3  0.89\n",
      "Without Desease :\n",
      "      TB   DB  AAP  SGPT  SGOT   TP  ALB  A/G\n",
      "7   0.9  0.3  202    22    19  7.4  4.1  1.2\n",
      "11  0.9  0.3  310    61    58  7.0  3.4  0.9\n"
     ]
    },
    {
     "data": {
      "text/html": [
       "<div>\n",
       "<style scoped>\n",
       "    .dataframe tbody tr th:only-of-type {\n",
       "        vertical-align: middle;\n",
       "    }\n",
       "\n",
       "    .dataframe tbody tr th {\n",
       "        vertical-align: top;\n",
       "    }\n",
       "\n",
       "    .dataframe thead th {\n",
       "        text-align: right;\n",
       "    }\n",
       "</style>\n",
       "<table border=\"1\" class=\"dataframe\">\n",
       "  <thead>\n",
       "    <tr style=\"text-align: right;\">\n",
       "      <th></th>\n",
       "      <th>Chemicals</th>\n",
       "      <th>Mean_Values</th>\n",
       "      <th>Status</th>\n",
       "    </tr>\n",
       "  </thead>\n",
       "  <tbody>\n",
       "    <tr>\n",
       "      <th>0</th>\n",
       "      <td>TB</td>\n",
       "      <td>3.543342</td>\n",
       "      <td>Desease</td>\n",
       "    </tr>\n",
       "    <tr>\n",
       "      <th>1</th>\n",
       "      <td>DB</td>\n",
       "      <td>1.590966</td>\n",
       "      <td>Desease</td>\n",
       "    </tr>\n",
       "    <tr>\n",
       "      <th>2</th>\n",
       "      <td>AAP</td>\n",
       "      <td>299.860574</td>\n",
       "      <td>Desease</td>\n",
       "    </tr>\n",
       "    <tr>\n",
       "      <th>3</th>\n",
       "      <td>SGPT</td>\n",
       "      <td>87.711227</td>\n",
       "      <td>Desease</td>\n",
       "    </tr>\n",
       "    <tr>\n",
       "      <th>4</th>\n",
       "      <td>SGOT</td>\n",
       "      <td>123.631332</td>\n",
       "      <td>Desease</td>\n",
       "    </tr>\n",
       "    <tr>\n",
       "      <th>5</th>\n",
       "      <td>TP</td>\n",
       "      <td>6.468877</td>\n",
       "      <td>Desease</td>\n",
       "    </tr>\n",
       "    <tr>\n",
       "      <th>6</th>\n",
       "      <td>ALB</td>\n",
       "      <td>3.123394</td>\n",
       "      <td>Desease</td>\n",
       "    </tr>\n",
       "    <tr>\n",
       "      <th>7</th>\n",
       "      <td>A/G</td>\n",
       "      <td>0.943923</td>\n",
       "      <td>Desease</td>\n",
       "    </tr>\n",
       "    <tr>\n",
       "      <th>8</th>\n",
       "      <td>TB</td>\n",
       "      <td>3.139768</td>\n",
       "      <td>Healthy</td>\n",
       "    </tr>\n",
       "    <tr>\n",
       "      <th>9</th>\n",
       "      <td>DB</td>\n",
       "      <td>1.437066</td>\n",
       "      <td>Healthy</td>\n",
       "    </tr>\n",
       "    <tr>\n",
       "      <th>10</th>\n",
       "      <td>AAP</td>\n",
       "      <td>278.059202</td>\n",
       "      <td>Healthy</td>\n",
       "    </tr>\n",
       "    <tr>\n",
       "      <th>11</th>\n",
       "      <td>SGPT</td>\n",
       "      <td>80.572716</td>\n",
       "      <td>Healthy</td>\n",
       "    </tr>\n",
       "    <tr>\n",
       "      <th>12</th>\n",
       "      <td>SGOT</td>\n",
       "      <td>107.773488</td>\n",
       "      <td>Healthy</td>\n",
       "    </tr>\n",
       "    <tr>\n",
       "      <th>13</th>\n",
       "      <td>TP</td>\n",
       "      <td>6.426255</td>\n",
       "      <td>Healthy</td>\n",
       "    </tr>\n",
       "    <tr>\n",
       "      <th>14</th>\n",
       "      <td>ALB</td>\n",
       "      <td>3.139125</td>\n",
       "      <td>Healthy</td>\n",
       "    </tr>\n",
       "    <tr>\n",
       "      <th>15</th>\n",
       "      <td>A/G</td>\n",
       "      <td>0.962554</td>\n",
       "      <td>Healthy</td>\n",
       "    </tr>\n",
       "  </tbody>\n",
       "</table>\n",
       "</div>"
      ],
      "text/plain": [
       "   Chemicals  Mean_Values   Status\n",
       "0         TB     3.543342  Desease\n",
       "1         DB     1.590966  Desease\n",
       "2        AAP   299.860574  Desease\n",
       "3       SGPT    87.711227  Desease\n",
       "4       SGOT   123.631332  Desease\n",
       "5         TP     6.468877  Desease\n",
       "6        ALB     3.123394  Desease\n",
       "7        A/G     0.943923  Desease\n",
       "8         TB     3.139768  Healthy\n",
       "9         DB     1.437066  Healthy\n",
       "10       AAP   278.059202  Healthy\n",
       "11      SGPT    80.572716  Healthy\n",
       "12      SGOT   107.773488  Healthy\n",
       "13        TP     6.426255  Healthy\n",
       "14       ALB     3.139125  Healthy\n",
       "15       A/G     0.962554  Healthy"
      ]
     },
     "execution_count": 333,
     "metadata": {},
     "output_type": "execute_result"
    },
    {
     "data": {
      "image/png": "[encoded data removed]",
      "text/plain": [
       "<Figure size 1440x576 with 1 Axes>"
      ]
     },
     "metadata": {
      "needs_background": "light"
     },
     "output_type": "display_data"
    }
   ],
   "source": [
    "with_desease = data[data['Diagnosis']==1]\n",
    "with_desease = with_desease.drop(columns=['Gender','Ages','Diagnosis'])\n",
    "names1 = with_desease.columns.unique()\n",
    "mean_of_feature = with_desease.mean(axis=0, skipna=True)\n",
    "\n",
    "\n",
    "without_desease = data[data['Diagnosis']==2]\n",
    "without_desease = without_desease.drop(columns=['Gender','Ages','Diagnosis'])\n",
    "names2 = without_desease.columns.unique()\n",
    "mean_of_feature2 = without_desease.mean(axis=0, skipna=True)\n",
    "\n",
    "\n",
    "print(\"With Desease :\\n\", with_desease.head(2))\n",
    "print(\"Without Desease :\\n\", without_desease.head(2))\n",
    "\n",
    "\n",
    "people =[]\n",
    "\n",
    "for x, y in zip(names1, mean_of_feature):\n",
    "    people.append([x,y,'Desease'])\n",
    "\n",
    "for x, y in zip(names2, mean_of_feature2):\n",
    "    people.append([x,y,'Healthy'])\n",
    "    \n",
    "    \n",
    "    #\n",
    "new_data = pd.DataFrame(people, columns=['Chemicals','Mean_Values','Status'])\n",
    "\n",
    "\n",
    "fig = plt.figure(figsize=(20, 8))\n",
    "plt.title(\"Comparison - Diseas vs Healthy\", size = 20, loc='center')\n",
    "plt.xticks(\n",
    "    rotation = 30,\n",
    "    weight = 'bold',\n",
    "    family= 'monospace',\n",
    "    size ='large'\n",
    "        \n",
    ")\n",
    "plt.yticks(\n",
    "    weight='bold',\n",
    "    family = 'monospace',\n",
    "    size = 'large'\n",
    ")\n",
    "\n",
    "g1 = sns.barplot(\n",
    "    x = 'Chemicals', \n",
    "    y='Mean_Values', \n",
    "    hue='Status', \n",
    "    data= new_data, \n",
    "    palette=\"RdPu_r\"\n",
    ")\n",
    "new_data"
   ]
  },
  {
   "cell_type": "markdown",
   "id": "5e70d794",
   "metadata": {},
   "source": [
    "# Plot Perbandingan Total Male Female dan Desease dan Healthy"
   ]
  },
  {
   "cell_type": "code",
   "execution_count": 334,
   "id": "ef057fb1",
   "metadata": {},
   "outputs": [
    {
     "data": {
      "text/plain": [
       "[None, None, None, None]"
      ]
     },
     "execution_count": 334,
     "metadata": {},
     "output_type": "execute_result"
    },
    {
     "data": {
      "image/png": "[encoded data removed]",
      "text/plain": [
       "<Figure size 1080x432 with 3 Axes>"
      ]
     },
     "metadata": {},
     "output_type": "display_data"
    }
   ],
   "source": [
    "fig = plt.figure(figsize=(15, 6), frameon=False)\n",
    "plt.title(\"Total Data\", loc='center', weight=10, size=15)\n",
    "plt.xticks([])\n",
    "plt.yticks([])\n",
    "\n",
    "ax1 = fig.add_subplot(121)\n",
    "ax2 = fig.add_subplot(122)\n",
    "\n",
    "\n",
    "only_geder = data[\"Gender\"]\n",
    "\n",
    "male_tot = only_geder[only_geder=='Male']\n",
    "\n",
    "no_of_male = len(male_tot)\n",
    "no_of_fmale = len(data)-len(male_tot)\n",
    "\n",
    "m_vs_f = [no_of_male, no_of_fmale]\n",
    "\n",
    "with_disease = data[data['Diagnosis']==1]\n",
    "not_with_disease = data[data['Diagnosis']==2]\n",
    "\n",
    "#with_desease =  with_desease[\"Gender\"]\n",
    "\n",
    "no_of_disease = len(with_desease)\n",
    "no_of_not_disease = len(data)-len(with_desease)\n",
    "\n",
    "d_vs_healty = [no_of_disease, no_of_not_disease]\n",
    "\n",
    "ax1.axis('equal')\n",
    "ax2.axis('equal')\n",
    "\n",
    "wedges, texts, autotext = ax1.pie(\n",
    "    m_vs_f,\n",
    "    labels = ('Male','FMale'),\n",
    "    radius=1,\n",
    "    textprops = dict(color='k'),\n",
    "    colors=['xkcd:ocean blue','xkcd:dark pink'],\n",
    "    autopct = \"%1.1f%%\"\n",
    ")\n",
    "wedges2, texts2, autotext2 =ax2.pie(\n",
    "    d_vs_healty,\n",
    "    labels=('Diseased','Not Diseased'),\n",
    "    radius = 1,\n",
    "    textprops=dict(color='k'),\n",
    "    colors = [\"#d95f02\",\"#1b9e77\"],\n",
    "    autopct = \"%1.1f%%\"\n",
    ")\n",
    "\n",
    "plt.setp(autotext, size=20)\n",
    "plt.setp(texts, size=20)\n",
    "\n",
    "plt.setp(autotext2, size=20)\n",
    "plt.setp(autotext2, size=20)"
   ]
  },
  {
   "cell_type": "markdown",
   "id": "ab23ce60",
   "metadata": {},
   "source": [
    "## Label encoder"
   ]
  },
  {
   "cell_type": "code",
   "execution_count": 335,
   "id": "d71d8304",
   "metadata": {},
   "outputs": [
    {
     "data": {
      "text/html": [
       "<div>\n",
       "<style scoped>\n",
       "    .dataframe tbody tr th:only-of-type {\n",
       "        vertical-align: middle;\n",
       "    }\n",
       "\n",
       "    .dataframe tbody tr th {\n",
       "        vertical-align: top;\n",
       "    }\n",
       "\n",
       "    .dataframe thead th {\n",
       "        text-align: right;\n",
       "    }\n",
       "</style>\n",
       "<table border=\"1\" class=\"dataframe\">\n",
       "  <thead>\n",
       "    <tr style=\"text-align: right;\">\n",
       "      <th></th>\n",
       "      <th>Ages</th>\n",
       "      <th>Gender</th>\n",
       "      <th>TB</th>\n",
       "      <th>DB</th>\n",
       "      <th>AAP</th>\n",
       "      <th>SGPT</th>\n",
       "      <th>SGOT</th>\n",
       "      <th>TP</th>\n",
       "      <th>ALB</th>\n",
       "      <th>A/G</th>\n",
       "      <th>Diagnosis</th>\n",
       "    </tr>\n",
       "  </thead>\n",
       "  <tbody>\n",
       "    <tr>\n",
       "      <th>0</th>\n",
       "      <td>62</td>\n",
       "      <td>1</td>\n",
       "      <td>10.9</td>\n",
       "      <td>5.5</td>\n",
       "      <td>699</td>\n",
       "      <td>64</td>\n",
       "      <td>100</td>\n",
       "      <td>7.5</td>\n",
       "      <td>3.2</td>\n",
       "      <td>0.74</td>\n",
       "      <td>1</td>\n",
       "    </tr>\n",
       "    <tr>\n",
       "      <th>1</th>\n",
       "      <td>62</td>\n",
       "      <td>1</td>\n",
       "      <td>7.3</td>\n",
       "      <td>4.1</td>\n",
       "      <td>490</td>\n",
       "      <td>60</td>\n",
       "      <td>68</td>\n",
       "      <td>7.0</td>\n",
       "      <td>3.3</td>\n",
       "      <td>0.89</td>\n",
       "      <td>1</td>\n",
       "    </tr>\n",
       "    <tr>\n",
       "      <th>2</th>\n",
       "      <td>58</td>\n",
       "      <td>1</td>\n",
       "      <td>1.0</td>\n",
       "      <td>0.4</td>\n",
       "      <td>182</td>\n",
       "      <td>14</td>\n",
       "      <td>20</td>\n",
       "      <td>6.8</td>\n",
       "      <td>3.4</td>\n",
       "      <td>1.00</td>\n",
       "      <td>1</td>\n",
       "    </tr>\n",
       "    <tr>\n",
       "      <th>3</th>\n",
       "      <td>72</td>\n",
       "      <td>1</td>\n",
       "      <td>3.9</td>\n",
       "      <td>2.0</td>\n",
       "      <td>195</td>\n",
       "      <td>27</td>\n",
       "      <td>59</td>\n",
       "      <td>7.3</td>\n",
       "      <td>2.4</td>\n",
       "      <td>0.40</td>\n",
       "      <td>1</td>\n",
       "    </tr>\n",
       "    <tr>\n",
       "      <th>4</th>\n",
       "      <td>46</td>\n",
       "      <td>1</td>\n",
       "      <td>1.8</td>\n",
       "      <td>0.7</td>\n",
       "      <td>208</td>\n",
       "      <td>19</td>\n",
       "      <td>14</td>\n",
       "      <td>7.6</td>\n",
       "      <td>4.4</td>\n",
       "      <td>1.30</td>\n",
       "      <td>1</td>\n",
       "    </tr>\n",
       "  </tbody>\n",
       "</table>\n",
       "</div>"
      ],
      "text/plain": [
       "   Ages  Gender    TB   DB  AAP  SGPT  SGOT   TP  ALB   A/G  Diagnosis\n",
       "0    62       1  10.9  5.5  699    64   100  7.5  3.2  0.74          1\n",
       "1    62       1   7.3  4.1  490    60    68  7.0  3.3  0.89          1\n",
       "2    58       1   1.0  0.4  182    14    20  6.8  3.4  1.00          1\n",
       "3    72       1   3.9  2.0  195    27    59  7.3  2.4  0.40          1\n",
       "4    46       1   1.8  0.7  208    19    14  7.6  4.4  1.30          1"
      ]
     },
     "execution_count": 335,
     "metadata": {},
     "output_type": "execute_result"
    }
   ],
   "source": [
    "le = LabelEncoder()\n",
    "data.Gender = le.fit_transform(data.Gender)\n",
    "data.head()"
   ]
  },
  {
   "cell_type": "markdown",
   "id": "d6e54d71",
   "metadata": {},
   "source": [
    "## Split Data train dan data test"
   ]
  },
  {
   "cell_type": "code",
   "execution_count": 336,
   "id": "47655e06",
   "metadata": {},
   "outputs": [
    {
     "name": "stderr",
     "output_type": "stream",
     "text": [
      "C:\\Users\\Bahar Andili\\AppData\\Local\\Temp\\ipykernel_8992\\1014469563.py:5: SettingWithCopyWarning: \n",
      "A value is trying to be set on a copy of a slice from a DataFrame\n",
      "\n",
      "See the caveats in the documentation: https://pandas.pydata.org/pandas-docs/stable/user_guide/indexing.html#returning-a-view-versus-a-copy\n",
      "  y[u] = 0\n"
     ]
    }
   ],
   "source": [
    "X = data.iloc[:,:-1].values\n",
    "y = data.iloc[:,-1]\n",
    "for u in range(len(y)):\n",
    "    if y[u] == 2:\n",
    "        y[u] = 0"
   ]
  },
  {
   "cell_type": "code",
   "execution_count": 337,
   "id": "ab57a116",
   "metadata": {},
   "outputs": [],
   "source": [
    "X_train, X_test, y_train, y_test = train_test_split(X, y, random_state = 42, test_size=0.25)"
   ]
  },
  {
   "cell_type": "markdown",
   "id": "2d8c2a5d",
   "metadata": {},
   "source": [
    "## Skalakan Data"
   ]
  },
  {
   "cell_type": "code",
   "execution_count": 338,
   "id": "7e5dd78e",
   "metadata": {},
   "outputs": [
    {
     "name": "stdout",
     "output_type": "stream",
     "text": [
      "\n",
      "-------------------------------------------------------------------------\n",
      "\n",
      "hasil transformasi nilai X_train : \n",
      " [[-0.43663642 -0.50423233 -0.51979143 ... -0.53630471 -0.30786857\n",
      "  -0.16183728]\n",
      " [-0.39208648 -0.43649813 -0.62158893 ...  0.84834901  0.46015447\n",
      "   2.64494039]\n",
      " [ 0.26131254  0.24084391 -0.60122943 ... -1.27478669 -0.69188009\n",
      "   0.15002691]\n",
      " ...\n",
      " [-0.40693646 -0.47036523 -0.40577823 ...  0.20217727  0.58815831\n",
      "   0.6490096 ]\n",
      " [-0.40693646 -0.47036523 -0.42613773 ... -1.92095842 -1.71591082\n",
      "  -1.09742984]\n",
      " [-0.40693646 -0.47036523 -0.59308563 ... -1.36709693 -0.81988393\n",
      "   0.15002691]]\n",
      "\n",
      "-------------------------------------------------------------------------\n",
      "\n",
      "hasil transformasi nilai X_test : \n",
      " [[ 0.18381632  0.18984043 -0.24039405 ...  0.65579768  0.25477487\n",
      "  -0.43354647]\n",
      " [-0.46007898 -0.48197038 -0.57844283 ...  0.38126823  0.74050714\n",
      "   0.48550302]\n",
      " [-0.46007898 -0.48197038 -0.68562903 ...  0.56428786  1.10480634\n",
      "   1.09820267]\n",
      " ...\n",
      " [-0.50032244 -0.48197038 -0.72685449 ...  1.3878762   1.10480634\n",
      "   0.17915319]\n",
      " [-0.33934861 -0.36341553 -0.11259513 ...  0.28975842  0.98337327\n",
      "   1.4045525 ]\n",
      " [-0.43995725 -0.4424521  -0.64440357 ...  0.93032713  0.49764101\n",
      "   2.62995181]]\n",
      "\n",
      "-------------------------------------------------------------------------\n",
      "\n"
     ]
    }
   ],
   "source": [
    "sc = StandardScaler()\n",
    "X_train[:,2:] = sc.fit_transform(X_train[:,2:]) \n",
    "X_test[:,2:] = sc.fit_transform(X_test[:,2:]) \n",
    "print(\"\\n-------------------------------------------------------------------------\\n\")\n",
    "print(\"hasil transformasi nilai X_train : \\n\", X_train[:,2:])\n",
    "print(\"\\n-------------------------------------------------------------------------\\n\")\n",
    "print(\"hasil transformasi nilai X_test : \\n\", X_test[:,2:])\n",
    "print(\"\\n-------------------------------------------------------------------------\\n\")"
   ]
  },
  {
   "cell_type": "markdown",
   "id": "0201123e",
   "metadata": {},
   "source": [
    "# Pemodelan dan Prediksi\n",
    "## KNN Classifier"
   ]
  },
  {
   "cell_type": "code",
   "execution_count": 339,
   "id": "aa1cd23b",
   "metadata": {},
   "outputs": [
    {
     "name": "stdout",
     "output_type": "stream",
     "text": [
      "              precision    recall  f1-score   support\n",
      "\n",
      "           0       0.27      0.14      0.18       207\n",
      "           1       0.68      0.83      0.75       466\n",
      "\n",
      "    accuracy                           0.62       673\n",
      "   macro avg       0.48      0.49      0.47       673\n",
      "weighted avg       0.56      0.62      0.58       673\n",
      "\n",
      "------------------------------------------------------\n",
      "The accuracy KNN: \n",
      " =  0.6181277860326895\n",
      "------------------------------------------------------\n"
     ]
    }
   ],
   "source": [
    "classifier_knn = KNeighborsClassifier()\n",
    "classifier_knn.fit(X_train, y_train)\n",
    "y_pred_knn = classifier_knn.predict(X_test)\n",
    "\n",
    "accuracy_knn = accuracy_score(y_test, y_pred_knn)\n",
    "print(classification_report(y_test, y_pred_knn))\n",
    "print(\"------------------------------------------------------\")\n",
    "print(\"The accuracy KNN: \\n = \", accuracy_knn)\n",
    "print(\"------------------------------------------------------\")"
   ]
  },
  {
   "cell_type": "markdown",
   "id": "d80058f4",
   "metadata": {},
   "source": [
    "## GaussianNB"
   ]
  },
  {
   "cell_type": "code",
   "execution_count": 340,
   "id": "607b8720",
   "metadata": {},
   "outputs": [
    {
     "name": "stdout",
     "output_type": "stream",
     "text": [
      "              precision    recall  f1-score   support\n",
      "\n",
      "           0       0.19      0.01      0.03       207\n",
      "           1       0.69      0.97      0.81       466\n",
      "\n",
      "    accuracy                           0.68       673\n",
      "   macro avg       0.44      0.49      0.42       673\n",
      "weighted avg       0.54      0.68      0.57       673\n",
      "\n",
      "------------------------------------------------------\n",
      "The accuracy Naive Bayes: \n",
      " =  0.6775631500742942\n",
      "------------------------------------------------------\n"
     ]
    }
   ],
   "source": [
    "classifier_nb = GaussianNB()\n",
    "classifier_nb.fit(X_train, y_train)\n",
    "y_pred_nb = classifier_nb.predict(X_test)\n",
    "\n",
    "accuracy_nb = accuracy_score(y_test, y_pred_nb)\n",
    "print(classification_report(y_test, y_pred_nb))\n",
    "print(\"------------------------------------------------------\")\n",
    "print(\"The accuracy Naive Bayes: \\n = \", accuracy_nb)\n",
    "print(\"------------------------------------------------------\")"
   ]
  },
  {
   "cell_type": "markdown",
   "id": "596a6ba1",
   "metadata": {},
   "source": [
    "# Plot Perbandingan Akurasi"
   ]
  },
  {
   "cell_type": "code",
   "execution_count": 341,
   "id": "cd3930a3",
   "metadata": {},
   "outputs": [
    {
     "data": {
      "text/html": [
       "<div>\n",
       "<style scoped>\n",
       "    .dataframe tbody tr th:only-of-type {\n",
       "        vertical-align: middle;\n",
       "    }\n",
       "\n",
       "    .dataframe tbody tr th {\n",
       "        vertical-align: top;\n",
       "    }\n",
       "\n",
       "    .dataframe thead th {\n",
       "        text-align: right;\n",
       "    }\n",
       "</style>\n",
       "<table border=\"1\" class=\"dataframe\">\n",
       "  <thead>\n",
       "    <tr style=\"text-align: right;\">\n",
       "      <th></th>\n",
       "      <th>Model</th>\n",
       "      <th>Accuracy</th>\n",
       "    </tr>\n",
       "  </thead>\n",
       "  <tbody>\n",
       "    <tr>\n",
       "      <th>0</th>\n",
       "      <td>KNN</td>\n",
       "      <td>61.812779</td>\n",
       "    </tr>\n",
       "    <tr>\n",
       "      <th>1</th>\n",
       "      <td>Naive Bayes</td>\n",
       "      <td>67.756315</td>\n",
       "    </tr>\n",
       "  </tbody>\n",
       "</table>\n",
       "</div>"
      ],
      "text/plain": [
       "         Model   Accuracy\n",
       "0          KNN  61.812779\n",
       "1  Naive Bayes  67.756315"
      ]
     },
     "execution_count": 341,
     "metadata": {},
     "output_type": "execute_result"
    }
   ],
   "source": [
    "model_comparations =[['KNN', accuracy_knn*100],\n",
    "                     ['Naive Bayes', accuracy_nb*100]]\n",
    "                    \n",
    "\n",
    "model_comparations_df = pd.DataFrame(model_comparations,\n",
    "                                     columns=['Model','Accuracy']\n",
    "                                    )\n",
    "\n",
    "model_comparations_df"
   ]
  },
  {
   "cell_type": "code",
   "execution_count": 342,
   "id": "8ae72a9d",
   "metadata": {},
   "outputs": [
    {
     "data": {
      "image/png": "[encoded data removed]",
      "text/plain": [
       "<Figure size 1440x576 with 1 Axes>"
      ]
     },
     "metadata": {
      "needs_background": "light"
     },
     "output_type": "display_data"
    }
   ],
   "source": [
    "fig = plt.figure(figsize=(20,8))\n",
    "sns.set()\n",
    "sns.barplot(x='Model',\n",
    "            y='Accuracy', \n",
    "            data=model_comparations_df,\n",
    "            palette='Dark2'\n",
    "           )\n",
    "\n",
    "plt.xticks(size=18)\n",
    "plt.ylabel('Accuracy', size=14)\n",
    "plt.xlabel('Model', size=14)\n",
    "plt.show()"
   ]
  }
 ],
 "metadata": {
  "kernelspec": {
   "display_name": "Python 3 (ipykernel)",
   "language": "python",
   "name": "python3"
  },
  "language_info": {
   "codemirror_mode": {
    "name": "ipython",
    "version": 3
   },
   "file_extension": ".py",
   "mimetype": "text/x-python",
   "name": "python",
   "nbconvert_exporter": "python",
   "pygments_lexer": "ipython3",
   "version": "3.9.12"
  }
 },
 "nbformat": 4,
 "nbformat_minor": 5
}
